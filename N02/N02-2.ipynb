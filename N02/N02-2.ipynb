{
 "cells": [
  {
   "cell_type": "markdown",
   "metadata": {},
   "source": [
    "# 从零开始AI - 认知服务 - 人脸识别\n",
    "\n",
    "> ··· 您可以访问 [https://github.com/HaoHoo/F02AI](https://github.com/HaoHoo/F02AI) 来获得 “从零开始AI” 系列全部的内容。··· <br>\n",
    ">`请以原样使用或转发，欢迎Issue，敬请PR；如果觉得有些意思，欢迎Fork，敬谢Star。` \n",
    "\n",
    "在“认知服务 - 计算机视觉”这一部分，我们介绍了使用Azure的认知服务、通过标准REST API来调用云端的人工智能服务，帮助我们实现有关的计算机智能视觉。\n",
    "\n",
    "其实在计算机视觉中有一个非常重要的分类，就是关于人脸的识别。这个分类如此重要，以至于需要单独为其使用一套独立的REST API。对于我这个脸盲症患者来说，要是能像计算机一样又快又准确地记住识别人脸那就太好了。\n",
    "\n",
    "按照Azure目前提供的人脸功能的分类，接下来我们可以尝试如下几种能力：\n",
    "* [人脸检测](#FaceDetect)\n",
    "* [人脸识别](#FaceIdentity)\n",
    "* [人脸验证](#FaceVerify)\n",
    "\n",
    "和其他认知服务一样，计算机视觉也是运行在Azure的服务。为了使用Computer Vision API，您需要一个订阅密钥 (subscription key)。别担心，您可以在[这里](https://docs.microsoft.com/azure/cognitive-services/Computer-vision/Vision-API-How-to-Topics/HowToSubscribe)获取免费的订阅密钥。或者在[这里](https://azure.microsoft.com/zh-cn/try/cognitive-services)获取试用的订阅密钥。\n",
    "\n",
    "获取订阅密钥后，请记录密钥及分配的Azure服务区域。对于测试认知服务，往往会分配美国中西区域 (WestCentralUS)。后面我们使用这些API时，必须提供这两种信息。\n",
    "\n",
    "要开始尝试使用计算机视觉服务分析图像，需要根据提示，输入`subscription_key` 的值，也就是前面我们获得的API密钥。"
   ]
  },
  {
   "cell_type": "code",
   "execution_count": null,
   "metadata": {},
   "outputs": [],
   "source": [
    "subscription_key = input(\"Please input your Service Key:\")\n",
    "assert subscription_key"
   ]
  },
  {
   "cell_type": "markdown",
   "metadata": {},
   "source": [
    "然后，请再次按照提示输入API密钥对应的服务区域(`westus`, `westcentralus`, 等等)。输入服务区域后，组合的对应 `vision_base_url` 显示的地址将作为服务API调用的终结点地址。如果使用的是免费的订阅，目前通常为 `westus`。"
   ]
  },
  {
   "cell_type": "code",
   "execution_count": null,
   "metadata": {},
   "outputs": [],
   "source": [
    "face_base_url = input(\"Please input your Service Region:\")\n",
    "face_base_url = \"https://\"+face_base_url+\".api.cognitive.microsoft.com/vision/v2.0/\""
   ]
  },
  {
   "cell_type": "markdown",
   "metadata": {},
   "source": [
    "## 使用Python调用Face API进行人脸检测 <a name=\"FaceDetect\"> </a>\n",
    "\n",
    "在 [Face Detect](https://westus.dev.cognitive.microsoft.com/docs/services/563879b61984550e40cbbe8d/operations/563879b61984550f30395236) API网站，您能够直接在页面查看图像分析所支持的方法。该 API 网站非常便利，除了查阅 API 方法之外，您还可以直接尝试提供图片测试该 API。调用该API可选择使用这些参数：`faceId`，`landmarks`和`attributes`。\n",
    "\n",
    "如果调用成功，API 将返回以下信息:\n",
    "年龄(`age`)，性别(`gender`)，姿势(`headPose`)，微笑(`smile`)，美发(`facialHair`)，眼镜(`glasses`)，情感(`emotion`)，头发(`hair`)，化妆(`makeup`)，遮挡(`occlusion`)，配件(`accessories`)，模糊(`blur`)，曝光(`exposure`)和噪声(`noise`)。\n",
    "不需要全部信息的时候，`attibutes`可以指定返回上述信息的子集。\n",
    "\n",
    "照片放在微软的云端，会不会侵犯隐私？可以放心的是，存放的是提取的面部特征而不是实际图像。前面提及的`faceId`就是面部特征的标识符，它将用于各类人脸功能，并在API调用后24小时过期。\n",
    "\n",
    "实际上，人脸检测方法是Face API最为基础的方法。因为其他方法所需要使用的faceId，都需要通过Face Detect方法来获取。\n",
    "\n",
    "我们先把一些需要的库文件导入到代码环境。通过在notebook中使用“魔术”代码，可以在线导入matplotlib来进行画图。我们就用这个库来”画“出提供的照片。"
   ]
  },
  {
   "cell_type": "code",
   "execution_count": null,
   "metadata": {},
   "outputs": [],
   "source": [
    "%matplotlib inline\n",
    "from PIL import Image\n",
    "from io import BytesIO\n",
    "import matplotlib.pyplot as plt\n",
    "import requests"
   ]
  },
  {
   "cell_type": "markdown",
   "metadata": {},
   "source": [
    "先来一个有意思的人脸检测的实验：您有信心一眼看出几十人的合影中，有多少男性、多少女性吗？让我们找一张合影尝试一下。"
   ]
  },
  {
   "cell_type": "code",
   "execution_count": null,
   "metadata": {},
   "outputs": [],
   "source": [
    "image_url = \"https://github.com/HaoHoo/F02AI/raw/master/N02/images/Face/mvp-l.jpg\"\n",
    "image = Image.open(BytesIO(requests.get(image_url).content))\n",
    "plt.figure(figsize=(10,10))\n",
    "plt.imshow(image)\n",
    "_ = plt.axis(\"off\")"
   ]
  },
  {
   "cell_type": "markdown",
   "metadata": {},
   "source": [
    "在我们还没有数完有多少个人头的时候，人工智能已经完成了所有人脸的检测分析。简单的代码，就能够把女性使用紫色、男性使用蓝色标记出来。当然，以下的代码只是显示处理之后的照片。"
   ]
  },
  {
   "cell_type": "code",
   "execution_count": null,
   "metadata": {},
   "outputs": [],
   "source": [
    "image_url = \"https://github.com/HaoHoo/F02AI/raw/master/N02/images/Face/mvp-d.jpg\"\n",
    "image = Image.open(BytesIO(requests.get(image_url).content))\n",
    "plt.figure(figsize=(10,10))\n",
    "plt.imshow(image)\n",
    "_ = plt.axis(\"off\")"
   ]
  },
  {
   "cell_type": "markdown",
   "metadata": {},
   "source": [
    "实际上，使用前面提供的图片是无法完成人脸检测的。因为图片的分辨率不够。人脸检测对面部图片的建议为：正面，清晰，脸部大小为200x200像素（眼睛间为100像素）或更大。\n",
    "用于人脸检测的图片支持JPEG，PNG，GIF（第一帧）和BMP格式。允许的图像文件大小为1KB到6MB。当面部尺寸为36x36到4096x4096像素时，可以检测到面部。如果需要检测非常小而清晰的面部，请尝试放大输入图像。图像最多可返回64个面。面部按面部矩形大小从大到小排列。人脸检测更喜欢正面和近正面，否则可能会无法识别出人脸。\n",
    "\n",
    "### 分析图像\n",
    "\n",
    "人脸检测的URL调用链接形如以下的例子 (可以在[这里](https://westus.dev.cognitive.microsoft.com/docs/services/563879b61984550e40cbbe8d/operations/563879b61984550f30395236)查看REST API文档):\n",
    "\n",
    "<code>https://[location].api.cognitive.microsoft.com/face/v1.0/<b>detect</b>[?returnFaceId][&returnFaceLandmarks][&returnFaceAttributes][&recognitionModel][&returnRecognitionModel]</code>\n",
    "\n",
    "所以URL后面调用的功能先设置为 `detect`。"
   ]
  },
  {
   "cell_type": "code",
   "execution_count": null,
   "metadata": {},
   "outputs": [],
   "source": [
    "face_detect_url = face_base_url + \"detect\""
   ]
  },
  {
   "cell_type": "markdown",
   "metadata": {},
   "source": [
    "要开始分析图像，我们需要提供一张图片的URL给 `image_url` 变量。当然，您也可以把照片的URL改为您期望的地址。"
   ]
  },
  {
   "cell_type": "code",
   "execution_count": null,
   "metadata": {
    "scrolled": false
   },
   "outputs": [],
   "source": [
    "image_url = \"https://downtrend.com/wp-content/uploads/2018/06/twa2.jpg\"\n",
    "image = Image.open(BytesIO(requests.get(image_url).content))\n",
    "plt.imshow(image)"
   ]
  },
  {
   "cell_type": "markdown",
   "metadata": {},
   "source": [
    "为了通过 REST 方式调用人脸检测的 `detect` API，接下来的代码块需要使用 Python 的 `requests` 库。API 调用的结果将以 JSON 对象返回。按照规范，变量 `headers` 使用一个 dictionary 类型来包含必要的 API 密钥信息。而变量 `params` 同样使用 dictionary 类型来定义要调用的可视化功能。所有支持的功能都可以访问 [REST API 文档](https://westus.dev.cognitive.microsoft.com/docs/services/563879b61984550e40cbbe8d/operations/563879b61984550f30395236)查看。\n",
    "\n",
    "接着就可以通过 `requests` 来调用 REST 并返回 JSON 形式的结果了。"
   ]
  },
  {
   "cell_type": "code",
   "execution_count": null,
   "metadata": {
    "scrolled": true
   },
   "outputs": [],
   "source": [
    "headers  = {'Ocp-Apim-Subscription-Key': subscription_key }\n",
    "params   = {'returnFaceAttributes': 'age,gender,smile,facialHair,glasses,emotion,\\\n",
    "hair,makeup,occlusion,accessories,blur,exposure,noise',\n",
    "            'recognitionModel': 'recognition_02'}\n",
    "data     = {'url': image_url}\n",
    "response = requests.post(face_detect_url, headers=headers, params=params, json=data)\n",
    "response.raise_for_status()\n",
    "analysis = response.json()"
   ]
  },
  {
   "cell_type": "markdown",
   "metadata": {},
   "source": [
    "让我们来看一下人脸检测功能成功运行之后，返回了什么信息。"
   ]
  },
  {
   "cell_type": "code",
   "execution_count": null,
   "metadata": {},
   "outputs": [],
   "source": [
    "print(analysis)"
   ]
  },
  {
   "cell_type": "markdown",
   "metadata": {},
   "source": [
    "可以看到，人脸检测识别出了照片中的人脸，并且给出了一些关于人脸的信息。例如，人脸检测判断说这是一位58岁的男性，金发，没戴眼镜。并且还发现了识别出的人脸正在笑。让我们再来一张照片，来比较一下返回的信息差异～"
   ]
  },
  {
   "cell_type": "code",
   "execution_count": null,
   "metadata": {
    "scrolled": true
   },
   "outputs": [],
   "source": [
    "image_url = \"http://news.eastday.com/w/20140314/images/02468061.jpg\"\n",
    "image = Image.open(BytesIO(requests.get(image_url).content))\n",
    "plt.imshow(image)"
   ]
  },
  {
   "cell_type": "markdown",
   "metadata": {},
   "source": [
    "然后我们跟前一张照片一样，调用人脸检测功能来看看返回的信息。"
   ]
  },
  {
   "cell_type": "code",
   "execution_count": null,
   "metadata": {},
   "outputs": [],
   "source": [
    "headers  = {'Ocp-Apim-Subscription-Key': subscription_key }\n",
    "params   = {'returnFaceAttributes': 'age,gender,smile,facialHair,glasses,emotion,\\\n",
    "hair,makeup,occlusion,accessories,blur,exposure,noise',\n",
    "            'recognitionModel': 'recognition_02'}\n",
    "data     = {'url': image_url}\n",
    "response = requests.post(face_detect_url, headers=headers, params=params, json=data)\n",
    "response.raise_for_status()\n",
    "analysis = response.json()\n",
    "print(analysis)"
   ]
  },
  {
   "cell_type": "markdown",
   "metadata": {},
   "source": [
    "这一次返回的信息有所不同。首先，人脸检测判断这是位42岁的男性，戴了眼镜。我们还看到，这次识别的人脸比较严肃，没有笑。\n",
    "\n",
    "那么，Azure中的人脸检测服务是如何识别人脸以及其他信息的呢？\n",
    "\n",
    "实际上，计算机对人脸上的27个特征点进行了标记。利用这些特征点，计算机能够识别出这是否是人脸，并且，对照这些特征点的相对位置，计算机通过机器学习，就能够识别人脸的表情。在后面的实验，我们会单独介绍表情识别。\n",
    "\n",
    "![image](data:image/jpg;base64,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)\n",
    "\n",
    "我们可以来尝试获得一下这些特征点。还是一样，我们找一张照片。"
   ]
  },
  {
   "cell_type": "code",
   "execution_count": null,
   "metadata": {
    "scrolled": true
   },
   "outputs": [],
   "source": [
    "#image_url = \"http://p.ananas.chaoxing.com/star2/2014-06/1024_0c/1403711159370jpizg.jpg\"\n",
    "image_url = \"http://e0.ifengimg.com/02/2018/1115/DD191588DA10D452E6583743AB6E68749E5F8D14_size153_w1447_h961.jpeg\"\n",
    "image = Image.open(BytesIO(requests.get(image_url).content))\n",
    "plt.imshow(image)"
   ]
  },
  {
   "cell_type": "markdown",
   "metadata": {},
   "source": [
    "如人脸检测的REST API文档描述，我们需要构造调用的HTTP头部信息和参数，然后使用服务终结点URL来POST数据，再处理返回的数据。"
   ]
  },
  {
   "cell_type": "code",
   "execution_count": null,
   "metadata": {
    "scrolled": true
   },
   "outputs": [],
   "source": [
    "headers  = {'Ocp-Apim-Subscription-Key': subscription_key }\n",
    "params   = {'returnFaceLandmarks': 'true'}\n",
    "data     = {'url': image_url}\n",
    "response = requests.post(face_detect_url, headers=headers, params=params, json=data)\n",
    "response.raise_for_status()\n",
    "analysis = response.json()\n",
    "print(analysis)"
   ]
  },
  {
   "cell_type": "markdown",
   "metadata": {},
   "source": [
    "让我们把人脸检测识别的面部区域和面部特征的27个点的坐标从JSON数据中筛选出来。"
   ]
  },
  {
   "cell_type": "code",
   "execution_count": null,
   "metadata": {
    "scrolled": true
   },
   "outputs": [],
   "source": [
    "detect_face = analysis[0][\"faceRectangle\"]\n",
    "print(detect_face)\n",
    "points_face = analysis[0][\"faceLandmarks\"]\n",
    "print(points_face)"
   ]
  },
  {
   "cell_type": "markdown",
   "metadata": {},
   "source": [
    "数据看起来很乱对吧？让我们把数据整理一下。"
   ]
  },
  {
   "cell_type": "code",
   "execution_count": null,
   "metadata": {},
   "outputs": [],
   "source": [
    "import pandas as pd\n",
    "df = pd.DataFrame(points_face).T\n",
    "print(df)"
   ]
  },
  {
   "cell_type": "markdown",
   "metadata": {},
   "source": [
    "通过将JSON数据转化为Data Frame，并且将其进行矩阵转置，我们终于获得了看上去比较舒服的面部特征点数据集合。\n",
    "细心的你也许发现返回的特征点名称和前文的图有点差异？这是因为微软在2019年03月更新了认知服务，在Face API的各功能调用中，提供了了新的参数'recognitionModel'。支持的'recognitionModel'值包括“recognition_01”或“recognition_02”。默认值为“recognition_01”。建议使用“recognition_02”，因为与“recognition_01”相比，它的整体精度得到了提高。需要注意的是两个不同版本的模型不可以混用。\n",
    "\n",
    "接下来，我们把这些数据画到照片上，方便对照查看。"
   ]
  },
  {
   "cell_type": "code",
   "execution_count": null,
   "metadata": {
    "scrolled": false
   },
   "outputs": [],
   "source": [
    "from matplotlib.patches import Rectangle\n",
    "plt.figure(figsize=(8,16))\n",
    "ax     = plt.imshow(image, alpha=0.7)\n",
    "origin = (detect_face[\"left\"], detect_face[\"top\"])\n",
    "p      = Rectangle(origin, detect_face[\"width\"], detect_face[\"height\"], fill=False, linewidth=2, color='blue')\n",
    "ax.axes.add_patch(p)\n",
    "plt.scatter(df.x, df.y, s=5, c='navy')\n",
    "_ = plt.axis(\"off\")"
   ]
  },
  {
   "cell_type": "markdown",
   "metadata": {},
   "source": [
    "实际上，前面我们看到的计算机视觉帮助判断表情的信息，也是通过对这些特征点建模来实现的。表情对于人脸检测非常重要，很多人也许不会通过语言直接表露自己的情绪，但是却经常由表情显露出真实的情绪。\n",
    "\n",
    "![image](data:image/jpg;base64,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)\n",
    "\n",
    "甚至FBI都出过有关微表情判断人的行为的书，还有比较有意思的电视剧。所以我们可以来尝试两个例子。\n",
    "识别表情并不需要特别的API功能，因为已经合并到Face API了。我们来尝试一下。"
   ]
  },
  {
   "cell_type": "code",
   "execution_count": null,
   "metadata": {},
   "outputs": [],
   "source": [
    "image_url = \"https://github.com/HaoHoo/F02AI/raw/master/N02/images/Face/bqb01.jpg\"\n",
    "image = Image.open(BytesIO(requests.get(image_url).content))\n",
    "plt.imshow(image)"
   ]
  },
  {
   "cell_type": "markdown",
   "metadata": {},
   "source": [
    "我们把这个表情包图片发送给人脸认知服务。"
   ]
  },
  {
   "cell_type": "code",
   "execution_count": null,
   "metadata": {},
   "outputs": [],
   "source": [
    "headers  = {'Ocp-Apim-Subscription-Key': subscription_key }\n",
    "params   = {'returnFaceAttributes': 'emotion',\n",
    "            'recognitionModel': 'recognition_02'}\n",
    "data     = {'url': image_url}\n",
    "response = requests.post(face_detect_url, headers=headers, params=params, json=data)\n",
    "response.raise_for_status()\n",
    "analysis = response.json()\n",
    "print(analysis)"
   ]
  },
  {
   "cell_type": "markdown",
   "metadata": {},
   "source": [
    "返回的信息比较不容易读，我们来做一些转换。"
   ]
  },
  {
   "cell_type": "code",
   "execution_count": null,
   "metadata": {
    "scrolled": false
   },
   "outputs": [],
   "source": [
    "import numpy as np\n",
    "import pandas as pd\n",
    "emotion_data=analysis[0]['faceAttributes']\n",
    "print(emotion_data)\n",
    "emotion_lenth = 8\n",
    "emotion_labels = np.array(['anger','contempt','disgust','fear','happiness','neutral','sadness','surprise'])\n",
    "print(emotion_labels)\n",
    "emotion_rate=pd.DataFrame(emotion_data)\n",
    "emotion_rate=np.array(emotion_rate)\n",
    "emotion_rate=np.ravel(emotion_rate)\n",
    "print(emotion_rate)"
   ]
  },
  {
   "cell_type": "markdown",
   "metadata": {},
   "source": [
    "现在，数据被分为标签和表情概率两个数组，我们来尝试用雷达图显示检测出的综合表情。"
   ]
  },
  {
   "cell_type": "code",
   "execution_count": null,
   "metadata": {},
   "outputs": [],
   "source": [
    "angles = np.linspace(0, 2*np.pi, emotion_lenth, endpoint=False)\n",
    "emotion_show = np.concatenate((emotion_rate, [emotion_rate[0]])) # 闭合\n",
    "angles = np.concatenate((angles, [angles[0]])) # 闭合\n",
    "fig = plt.figure()\n",
    "ax = fig.add_subplot(111, polar=True)\n",
    "ax.plot(angles, emotion_show, 'bo-', linewidth=1)# 画线\n",
    "ax.fill(angles, emotion_show, facecolor='b', alpha=0.25)# 填充\n",
    "ax.set_thetagrids(angles * 180/np.pi, emotion_labels)\n",
    "ax.set_title(\"Emotion Detect\", va='bottom')\n",
    "ax.set_rlim(0,1)\n",
    "ax.grid(True)\n",
    "plt.show()"
   ]
  },
  {
   "cell_type": "markdown",
   "metadata": {},
   "source": [
    "不妨再来一个例子。"
   ]
  },
  {
   "cell_type": "code",
   "execution_count": null,
   "metadata": {},
   "outputs": [],
   "source": [
    "image_url = \"https://github.com/HaoHoo/F02AI/raw/master/N02/images/Face/bqb02.jpg\"\n",
    "image = Image.open(BytesIO(requests.get(image_url).content))\n",
    "plt.imshow(image)\n",
    "data     = {'url': image_url}\n",
    "response = requests.post(face_detect_url, headers=headers, params=params, json=data)\n",
    "response.raise_for_status()\n",
    "analysis = response.json()\n",
    "emotion_data=analysis[0]['faceAttributes']\n",
    "print(emotion_data)\n",
    "emotion_lenth = 8\n",
    "emotion_labels = np.array(['anger','contempt','disgust','fear','happiness','neutral','sadness','surprise'])\n",
    "print(emotion_labels)\n",
    "emotion_rate=pd.DataFrame(emotion_data)\n",
    "emotion_rate=np.array(emotion_rate)\n",
    "emotion_rate=np.ravel(emotion_rate)\n",
    "print(emotion_rate)\n",
    "angles = np.linspace(0, 2*np.pi, emotion_lenth, endpoint=False)\n",
    "emotion_show = np.concatenate((emotion_rate, [emotion_rate[0]])) # 闭合\n",
    "angles = np.concatenate((angles, [angles[0]])) # 闭合\n",
    "fig = plt.figure()\n",
    "ax = fig.add_subplot(111, polar=True)\n",
    "ax.plot(angles, emotion_show, 'bo-', linewidth=1)# 画线\n",
    "ax.fill(angles, emotion_show, facecolor='b', alpha=0.25)# 填充\n",
    "ax.set_thetagrids(angles * 180/np.pi, emotion_labels)\n",
    "ax.set_title(\"Emotion Detect\", va='bottom')\n",
    "ax.set_rlim(0,1)\n",
    "ax.grid(True)\n",
    "plt.show()"
   ]
  },
  {
   "cell_type": "markdown",
   "metadata": {},
   "source": [
    "## 人脸识别 <a name=\"FaceIdentity\"> </a>\n",
    "\n",
    "通过人脸检测的实验，我们初步了解了对于人脸的机器视觉功能的原理——基于27的特征点来对人脸图像进行分析。既然每张面孔都可以通过这些特征点来描述，那是否可以将这个技术用于进行人脸识别呢？\n",
    "\n",
    "答案当然是可以的。不过，要识别人脸比检测人脸就稍微复杂一点。因为我们需要对照保存的人脸图片和需要比较的人脸图片——如同我们在一些应用中使用人脸识别功能一样，首先我们需要提供几张人脸的照片给到计算机，进行特征识别、保存并让人工智能进行训练，然后才能将需要识别的人脸图片与之相对照。因此，我们必须将图片先发送给Face API并关联到人，保存这些信息用于后面的识别。\n",
    "\n",
    "还记得前面我们介绍的FaceID吗？我们需要使用FaceID来关联这些保存的面部信息。而为了对人脸进行识别，就必须为每一个人分析几张人脸的照片。所以，我们就需要有一种组织形式，将人脸图片和人联系在一起，将人按照组进行组织。\n",
    "\n",
    "![image](data:image/jpg;base64,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)\n",
    "\n",
    "通过这种对人脸信息的组织方式，一对多识别将从人员组或大型人员组中找到特定查询人脸的最接近的匹配。我们将分为几个步骤来实现这个识别过程。\n",
    "\n",
    "由于后面的示例代码既会使用JSON方式的HTTP Header，也会使用Octet流的，为方便使用，我们把两种Header都定义以下。"
   ]
  },
  {
   "cell_type": "code",
   "execution_count": null,
   "metadata": {},
   "outputs": [],
   "source": [
    "json_headers = {\"Ocp-Apim-Subscription-Key\": subscription_key, \"Content-Type\": \"application/json\"}\n",
    "octs_headers = {\"Ocp-Apim-Subscription-Key\": subscription_key, \"Content-Type\": \"application/octet-stream\"}\n",
    "params={}"
   ]
  },
  {
   "cell_type": "markdown",
   "metadata": {},
   "source": [
    "### 创建人员组\n",
    "\n",
    "为了进行人脸识别，首先我们需要将一组人组织为一个人员组或大型人员组，随着组的创建，按照组的规模大小，也就产生了唯一的`personGroupId`或`largePersonGroupId`。\n",
    "\n",
    "人员组限制：\n",
    "* 免费订阅配额：1,000人/组。每个人最多可容纳1,000人。\n",
    "* S0级订阅配额：1,000,000人/组。每个人最多可容纳10,000人。\n",
    "要处理更大规模的人脸识别问题，请考虑使用 LargePersonGroup。\n",
    "\n",
    "让我们尝试创建一个 `personGroupId` 为\"msftvip\"的人员组。\n",
    "按照<a href=\"https://westus.dev.cognitive.microsoft.com/docs/services/563879b61984550e40cbbe8d/operations/563879b61984550f30395244\">PersonGroup - Create </a>方法的定义，调用API的URL形如：\n",
    "\n",
    "<code>https://[location].api.cognitive.microsoft.com/face/v1.0/<b>persongroups/{personGroupId}</b></code>\n",
    "\n",
    "而我们需要提供的HTTP Body包括 `name` 和 `userData` 两个数据。"
   ]
  },
  {
   "cell_type": "code",
   "execution_count": null,
   "metadata": {
    "scrolled": true
   },
   "outputs": [],
   "source": [
    "personGroupId = 'msftvip'\n",
    "personGroup_create_url=face_base_url+\"persongroups/\"+ personGroupId\n",
    "body={\"name\": personGroupId, \"userData\": \"For Microsoft VIP face indentify.\"}\n",
    "response = requests.put(personGroup_create_url, headers=json_headers, params=params, json=body)\n",
    "response.raise_for_status()\n",
    "print('Person Group \"'+personGroupId+'\" has been created.')"
   ]
  },
  {
   "cell_type": "markdown",
   "metadata": {},
   "source": [
    "需要注意的是，如果试图创建已经存在的人员组，就会返回冲突的错误。这时可以选择使用已有的人员组、新建一个不同的人员组，或者对现有人员组进行删除后再创建。\n",
    "\n",
    "### 添加人员\n",
    "\n",
    "有了人员组之后，就可以将未来需要识别的人员添加到人员组。我们可以按照<a href=\"https://westus.dev.cognitive.microsoft.com/docs/services/563879b61984550e40cbbe8d/operations/563879b61984550f3039523c\">PersonGroup Person - Create</a>方法的定义，调用API的URL形如：\n",
    "\n",
    "<code>https://[location].api.cognitive.microsoft.com/face/v1.0/persongroups/{personGroupId}/<b>persons</b></code>\n",
    "\n",
    "可以看到，API服务URL的构造中，`persons`必须接在`persongroups/{personGroupId}`之后，所以我们必须首先创建人员组，才能将人员添加到人员组中。\n",
    "\n",
    "我们首先来为 Satya Nadella 创建人员。通过HTTP Body传递的信息与人员组的类似，这里不复赘述。需要说明的是这里有个小花招，为了后面实验人脸验证，我们把 Satya 的`personId`做了保留。"
   ]
  },
  {
   "cell_type": "code",
   "execution_count": null,
   "metadata": {},
   "outputs": [],
   "source": [
    "person_add_url=face_base_url+\"persongroups/\"+personGroupId+\"/persons\"\n",
    "\n",
    "personName = \"Satya Nadella\"\n",
    "body = {\"name\": personName, \"userData\":\"Microsoft Global CEO\"}\n",
    "response = requests.post(person_add_url, headers=json_headers, params=params, json=body)\n",
    "response.raise_for_status()\n",
    "analysis = response.json()\n",
    "personId = analysis.get(\"personId\")\n",
    "print('\"'+personName+'\" has been added to group \"'+personGroupId+'\". The personID: ' + personId)\n",
    "\n",
    "verify_personId=personId"
   ]
  },
  {
   "cell_type": "markdown",
   "metadata": {},
   "source": [
    "### 添加照片\n",
    "\n",
    "人员添加完毕，该是为人员添加面部特征库的时候了。\n",
    "\n",
    "我们可以按照<a href=\"https://westus.dev.cognitive.microsoft.com/docs/services/563879b61984550e40cbbe8d/operations/563879b61984550f3039523b\">PersonGroup Person - Add Face</a>方法的定义，调用API的URL形如：\n",
    "\n",
    "<code>https://[location].api.cognitive.microsoft.com/face/v1.0/persongroups/{personGroupId}/persons/{personId}/<b>persistedFaces</b>[?userData][&targetFace]</code>\n",
    "\n",
    "可以看到，API服务URL的构造中，`persistedFaces`必须接在`persongroups/{personGroupId}/persons/{personId}`之后，所以我们必须首先创建人员组，再创建人员，才能将人员的面部特征添加到对应人员和其所在人员组中。\n",
    "为单独人员添加/删除面部特征的操作是序列的，而对不同人员添加/删除面部特征可以并行。\n",
    "\n",
    "添加成功后，Face API会给每一张处理的面部图片一个唯一的faceId。让我们把faceId画在已经添加的照片上。"
   ]
  },
  {
   "cell_type": "code",
   "execution_count": null,
   "metadata": {},
   "outputs": [],
   "source": [
    "face_add_url=face_base_url+\"persongroups/\"+ personGroupId + \"/persons/\" + personId + \"/persistedFaces\"\n",
    "imageFile=\"images/Face/sdy01.jpg\"\n",
    "imageData = open(imageFile,'rb').read()\n",
    "response = requests.post(face_add_url, headers=octs_headers, params=params, data=imageData)\n",
    "response.raise_for_status()\n",
    "analysis = response.json()\n",
    "faceId = analysis.get(\"persistedFaceId\")\n",
    "image = Image.open(BytesIO(imageData))\n",
    "plt.figure(figsize=(4.4, 4.4))\n",
    "im = plt.imshow(image)\n",
    "_ = plt.axis(\"off\")\n",
    "_ = plt.title(faceId, size=\"large\", y=-0.12)"
   ]
  },
  {
   "cell_type": "markdown",
   "metadata": {},
   "source": [
    "每个人员可以添加不超过248张面部照片进行采样保存。能够识别的像素范围如前文所提，在36x36到4096x4096像素的范围内。更高的面部图像质量意味着更好的识别精度，请考虑高质量的脸部：正面，清晰，脸部大小为200x200像素（眼睛间为100像素）或更大。\n",
    "\n",
    "让我们继续添加两张面部照片。"
   ]
  },
  {
   "cell_type": "code",
   "execution_count": null,
   "metadata": {},
   "outputs": [],
   "source": [
    "imageFile=\"images/Face/sdy02.jpg\"\n",
    "imageData = open(imageFile,'rb').read()\n",
    "response = requests.post(face_add_url, headers=octs_headers, params=params, data=imageData)\n",
    "response.raise_for_status()\n",
    "analysis = response.json()\n",
    "faceId = analysis.get(\"persistedFaceId\")\n",
    "image = Image.open(BytesIO(imageData))\n",
    "plt.figure(figsize=(4.4, 4.4))\n",
    "im = plt.imshow(image)\n",
    "_ = plt.axis(\"off\")\n",
    "_ = plt.title(faceId, size=\"large\", y=-0.12)"
   ]
  },
  {
   "cell_type": "code",
   "execution_count": null,
   "metadata": {
    "scrolled": true
   },
   "outputs": [],
   "source": [
    "imageFile=\"images/Face/sdy03.png\"\n",
    "imageData = open(imageFile,'rb').read()\n",
    "response = requests.post(face_add_url, headers=octs_headers, params=params, data=imageData)\n",
    "response.raise_for_status()\n",
    "analysis = response.json()\n",
    "faceId = analysis.get(\"persistedFaceId\")\n",
    "image = Image.open(BytesIO(imageData))\n",
    "plt.figure(figsize=(4.4, 4.4))\n",
    "im = plt.imshow(image)\n",
    "_ = plt.axis(\"off\")\n",
    "_ = plt.title(faceId, size=\"large\", y=-0.12)"
   ]
  },
  {
   "cell_type": "markdown",
   "metadata": {},
   "source": [
    "接下来我们添加沈向洋博士到我们的人员组，并为他添加几张照片。"
   ]
  },
  {
   "cell_type": "code",
   "execution_count": null,
   "metadata": {},
   "outputs": [],
   "source": [
    "personName = \"XiangYang Shen\"\n",
    "body = {\"name\": personName, \"userData\":\"Ex-Microsoft Global VP\"}\n",
    "response = requests.post(person_add_url, headers=json_headers, params=params, json=body)\n",
    "response.raise_for_status()\n",
    "analysis = response.json()\n",
    "personId = analysis.get(\"personId\")\n",
    "print('\"'+personName+'\" has been added to group. The personID: ' + personId)"
   ]
  },
  {
   "cell_type": "code",
   "execution_count": null,
   "metadata": {},
   "outputs": [],
   "source": [
    "face_add_url=face_base_url+\"persongroups/\"+ personGroupId + \"/persons/\" + personId + \"/persistedFaces\"\n",
    "imageFile=\"images/Face/sxy01.jpg\"\n",
    "imageData = open(imageFile,'rb').read()\n",
    "response = requests.post(face_add_url, headers=octs_headers, params=params, data=imageData)\n",
    "response.raise_for_status()\n",
    "analysis = response.json()\n",
    "faceId = analysis.get(\"persistedFaceId\")\n",
    "image = Image.open(BytesIO(imageData))\n",
    "plt.figure(figsize=(4.4, 4.4))\n",
    "im = plt.imshow(image)\n",
    "_ = plt.axis(\"off\")\n",
    "_ = plt.title(faceId, size=\"large\", y=-0.12)"
   ]
  },
  {
   "cell_type": "code",
   "execution_count": null,
   "metadata": {},
   "outputs": [],
   "source": [
    "imageFile=\"images/Face/sxy02.jpg\"\n",
    "imageData = open(imageFile,'rb').read()\n",
    "response = requests.post(face_add_url, headers=octs_headers, params=params, data=imageData)\n",
    "response.raise_for_status()\n",
    "analysis = response.json()\n",
    "faceId = analysis.get(\"persistedFaceId\")\n",
    "image = Image.open(BytesIO(imageData))\n",
    "plt.figure(figsize=(4.4, 4.4))\n",
    "im = plt.imshow(image)\n",
    "_ = plt.axis(\"off\")\n",
    "_ = plt.title(faceId, size=\"large\", y=-0.12)"
   ]
  },
  {
   "cell_type": "code",
   "execution_count": null,
   "metadata": {},
   "outputs": [],
   "source": [
    "imageFile=\"images/Face/sxy03.jpg\"\n",
    "imageData = open(imageFile,'rb').read()\n",
    "response = requests.post(face_add_url, headers=octs_headers, params=params, data=imageData)\n",
    "response.raise_for_status()\n",
    "analysis = response.json()\n",
    "faceId = analysis.get(\"persistedFaceId\")\n",
    "image = Image.open(BytesIO(imageData))\n",
    "plt.figure(figsize=(4.4, 4.4))\n",
    "im = plt.imshow(image)\n",
    "_ = plt.axis(\"off\")\n",
    "_ = plt.title(faceId, size=\"large\", y=-0.12)"
   ]
  },
  {
   "cell_type": "markdown",
   "metadata": {},
   "source": [
    "再添加潘正磊以及她的照片。"
   ]
  },
  {
   "cell_type": "code",
   "execution_count": null,
   "metadata": {},
   "outputs": [],
   "source": [
    "personName = \"ZhengLei Pan\"\n",
    "body = {\"name\": personName, \"userData\":\"Microsoft Global VP\"}\n",
    "response = requests.post(person_add_url, headers=json_headers, params=params, json=body)\n",
    "response.raise_for_status()\n",
    "analysis = response.json()\n",
    "personId = analysis.get(\"personId\")\n",
    "print('\"'+personName+'\" has been added to group. The personID: ' + personId)"
   ]
  },
  {
   "cell_type": "code",
   "execution_count": null,
   "metadata": {},
   "outputs": [],
   "source": [
    "face_add_url=face_base_url+\"persongroups/\"+ personGroupId + \"/persons/\" + personId + \"/persistedFaces\"\n",
    "imageFile=\"images/Face/pzl01.jpg\"\n",
    "imageData = open(imageFile,'rb').read()\n",
    "response = requests.post(face_add_url, headers=octs_headers, params=params, data=imageData)\n",
    "response.raise_for_status()\n",
    "analysis = response.json()\n",
    "faceId = analysis.get(\"persistedFaceId\")\n",
    "image = Image.open(BytesIO(imageData))\n",
    "plt.figure(figsize=(4.4, 4.4))\n",
    "im = plt.imshow(image)\n",
    "_ = plt.axis(\"off\")\n",
    "_ = plt.title(faceId, size=\"large\", y=-0.12)"
   ]
  },
  {
   "cell_type": "code",
   "execution_count": null,
   "metadata": {},
   "outputs": [],
   "source": [
    "imageFile=\"images/Face/pzl02.jpg\"\n",
    "imageData = open(imageFile,'rb').read()\n",
    "response = requests.post(face_add_url, headers=octs_headers, params=params, data=imageData)\n",
    "response.raise_for_status()\n",
    "analysis = response.json()\n",
    "faceId = analysis.get(\"persistedFaceId\")\n",
    "image = Image.open(BytesIO(imageData))\n",
    "plt.figure(figsize=(4.4, 4.4))\n",
    "im = plt.imshow(image)\n",
    "_ = plt.axis(\"off\")\n",
    "_ = plt.title(faceId, size=\"large\", y=-0.12)"
   ]
  },
  {
   "cell_type": "code",
   "execution_count": null,
   "metadata": {},
   "outputs": [],
   "source": [
    "imageFile=\"images/Face/pzl03.jpg\"\n",
    "imageData = open(imageFile,'rb').read()\n",
    "response = requests.post(face_add_url, headers=octs_headers, params=params, data=imageData)\n",
    "response.raise_for_status()\n",
    "analysis = response.json()\n",
    "faceId = analysis.get(\"persistedFaceId\")\n",
    "image = Image.open(BytesIO(imageData))\n",
    "plt.figure(figsize=(4.4, 4.4))\n",
    "im = plt.imshow(image)\n",
    "_ = plt.axis(\"off\")\n",
    "_ = plt.title(faceId, size=\"large\", y=-0.12)"
   ]
  },
  {
   "cell_type": "markdown",
   "metadata": {},
   "source": [
    "### 训练人员组\n",
    "\n",
    "应训练人员组/大型人员组，以便为人脸识别做好准备。可在<a href=\"https://westus.dev.cognitive.microsoft.com/docs/services/563879b61984550e40cbbe8d/operations/563879b61984550f30395249\">PersonGroup-Train</a>及<a href=\"https://westus.dev.cognitive.microsoft.com/docs/services/563879b61984550e40cbbe8d/operations/599ae2d16ac60f11b48b5aa4\">LargePersonGroup-Train</a>文档中查看更多信息。"
   ]
  },
  {
   "cell_type": "code",
   "execution_count": null,
   "metadata": {
    "scrolled": true
   },
   "outputs": [],
   "source": [
    "personGroup_train_url=face_base_url+\"persongroups/\"+personGroupId+\"/train\"\n",
    "response = requests.post(personGroup_train_url, headers=octs_headers, params=params, data=imageData)\n",
    "response.raise_for_status()"
   ]
  },
  {
   "cell_type": "markdown",
   "metadata": {},
   "source": [
    "### 识别人脸  <a href=\"FaceVerify\"> </a>\n",
    "\n",
    "完成训练，我们终于可以提供一张照片让人工智能来识别了。就拿之前 MVP 和 Satya 等VP合影的照片裁剪一部分出来吧。数数看，裁剪的照片中有几个人？\n",
    "\n",
    "每次可以对包含不超过10张面部的图片进行识别。在人脸识别之前，我们需要首先使用人脸检测获得照片中的人脸信息。\n",
    "为了将获得的人脸信息用于后续识别人脸的步骤，我们使用 `facesId` 来保存这个 `faceId` 列表。"
   ]
  },
  {
   "cell_type": "code",
   "execution_count": null,
   "metadata": {},
   "outputs": [],
   "source": [
    "imageFile=\"images/Face/n10.jpg\"\n",
    "imageData = open(imageFile,'rb').read()\n",
    "image = Image.open(BytesIO(imageData))\n",
    "plt.figure(figsize=(10, 10))\n",
    "im = plt.imshow(image)\n",
    "_ = plt.axis(\"off\")\n",
    "response = requests.post(face_detect_url, headers=octs_headers, params=params, data=imageData)\n",
    "response.raise_for_status()\n",
    "analysis = response.json()\n",
    "facesId = []\n",
    "i = 0\n",
    "for member in analysis:\n",
    "    faceId = analysis[i].get('faceId')\n",
    "    facesId.append(faceId)\n",
    "    i=i+1\n",
    "#print(facesId)"
   ]
  },
  {
   "cell_type": "markdown",
   "metadata": {},
   "source": [
    "我们可以按照<a href=\"https://westus.dev.cognitive.microsoft.com/docs/services/563879b61984550e40cbbe8d/operations/563879b61984550f30395239\">Face - Identify</a>方法的定义，调用API的URL形如：\n",
    "\n",
    "<code>https://[location].api.cognitive.microsoft.com/face/v1.0/<b>identify</b></code>\n",
    "\n",
    "为了识别人脸，需要提供将要识别的人脸列表`facesID`和基于的人脸特征库——人员组`personGroupId`，因此我们需要构造一个HTTP Body包含这两个信息。\n",
    "\n",
    "返回的候选人数受`maxNumOfCandidatesReturned`和`confidenceThreshold`的限制。如果没有人被识别，则返回的候选人将是一个空阵列。对于`faceIds`数组中的每个面部，人脸识别将计算查询面与人员组中的所有面部（由`personGroupId`给出）或大型人员组（由`largePersonGroupId`给出）之间的相似性，并返回该面部的候选人相似可信排名。\n",
    "\n",
    "当您需要从面部列表/大型面部列表而不是人员组/大型人员组中查找相似的面部时，尝试<a href=\"https://westus.dev.cognitive.microsoft.com/docs/services/563879b61984550e40cbbe8d/operations/563879b61984550f30395237\">Face-Find Similar</a>方法，查找近似人脸。"
   ]
  },
  {
   "cell_type": "code",
   "execution_count": null,
   "metadata": {},
   "outputs": [],
   "source": [
    "face_identify_url=face_base_url+\"identify\"\n",
    "data = {'personGroupId': personGroupId, 'faceIds': facesId}\n",
    "patams={}\n",
    "response = requests.post(face_identify_url, headers=json_headers, params=params, json=data)\n",
    "response.raise_for_status()\n",
    "analysis = response.json()    \n",
    "found = False\n",
    "i = 0\n",
    "for member in analysis:\n",
    "    condidates = analysis[i].get('candidates')\n",
    "    if condidates:\n",
    "        confidence = condidates[0].get('confidence')\n",
    "        personId = condidates[0].get('personId')\n",
    "# Identify Person\n",
    "        if confidence>0.5:\n",
    "            found = True\n",
    "            identifier=face_base_url+\"/persongroups/\"+personGroupId+\"/persons/\"+personId\n",
    "            response = requests.get(identifier, headers=json_headers, params=params, data=body)\n",
    "            response.raise_for_status()    \n",
    "            identifier=response.json()\n",
    "            print('Base on confidence rate:'+str(confidence)+', I found '+identifier.get('name')+' in this photo.')\n",
    "    i=i+1\n",
    "if not found:\n",
    "    print('I don\\'t know anyone in this photo.')"
   ]
  },
  {
   "cell_type": "markdown",
   "metadata": {},
   "source": [
    "可以看到，人脸识别功能按照可信度条件判断出，这张照片中有Satya Nadella、XiangYang Shen、ZhengLei Pan三位微软VP。\n",
    "\n",
    "如果只是在一堆人脸中找到相近的人脸，就不需要这么完整的人员组、人员和人脸的过程了，创建一个人脸列表(<a href=\"https://westus.dev.cognitive.microsoft.com/docs/services/563879b61984550e40cbbe8d/operations/563879b61984550f3039524b\">faceList</a>)，然后使用查找相似(<a href=\"https://westus.dev.cognitive.microsoft.com/docs/services/563879b61984550e40cbbe8d/operations/563879b61984550f30395237\">Face - Find Similar</a>)方法进行识别。\n",
    "\n",
    "接下来，我们试试验证特定人脸。\n",
    "\n",
    "## 人脸验证 <a name=\"FaceVerify\"> </a>\n",
    "\n",
    "验证一张人脸照片是否属于某人，需要检测这张照片获得对应的`faceId`和需要检测的人的`personId`。让我们再从网上找一张 Satya 的照片。"
   ]
  },
  {
   "cell_type": "code",
   "execution_count": null,
   "metadata": {},
   "outputs": [],
   "source": [
    "#image_url=\"https://3er1viui9wo30pkxh1v2nh4w-wpengine.netdna-ssl.com/wp-content/uploads/prod/2017/09/satya-bio.png\"\n",
    "image_url=\"https://iiwisdom.com/msft-2016/wp-content/uploads/sites/121/2015/05/Satya-Nadella.jpg\"\n",
    "image = Image.open(BytesIO(requests.get(image_url).content))\n",
    "plt.figure(figsize=(3,3))\n",
    "plt.imshow(image)\n",
    "_ = plt.axis(\"off\")"
   ]
  },
  {
   "cell_type": "markdown",
   "metadata": {},
   "source": [
    "再次使用Face API的Detect功能，获取这张照片的面部特征并得到`faceId`。Satya的`personId`怎么获取呢？还记得前面我们的小花招了吗？使用保存下来的verify_personId就可以了。正式编码时，可以通过对人员及人脸使用List、Get获得需要的信息，使用Update、Delete进行更新和删除。"
   ]
  },
  {
   "cell_type": "code",
   "execution_count": null,
   "metadata": {},
   "outputs": [],
   "source": [
    "data     = {'url': image_url}\n",
    "response = requests.post(face_detect_url, headers=json_headers, params=params, json=data)\n",
    "response.raise_for_status()\n",
    "analysis = response.json() \n",
    "\n",
    "verify_faceId=analysis[0].get('faceId')\n",
    "\n",
    "face_verify_url=face_base_url+\"verify\"\n",
    "data={\"faceId\": verify_faceId, \"personId\": verify_personId, \"personGroupId\": personGroupId}\n",
    "response = requests.post(face_verify_url, headers=json_headers, params=params, json=data)\n",
    "response.raise_for_status()\n",
    "analysis = response.json() \n",
    "if analysis.get('isIdentical'):\n",
    "    print ('We have '+str(analysis.get('confidence')*100)+'% sure that is Satya Nadella.')\n",
    "else:\n",
    "    print ('That is NOT Satya Nadella.')"
   ]
  },
  {
   "cell_type": "markdown",
   "metadata": {},
   "source": [
    "为了方便继续使用现有的订阅做后续的Face API测试，在完成我们的实验后，我们可以把今天创建的人员组进行删除。"
   ]
  },
  {
   "cell_type": "code",
   "execution_count": null,
   "metadata": {},
   "outputs": [],
   "source": [
    "#Clean up\n",
    "personGroup_delete_url=face_base_url+\"persongroups/\"+personGroupId\n",
    "bady={}\n",
    "response = requests.delete(personGroup_delete_url, headers=headers, params=params, json=body)\n",
    "response.raise_for_status()"
   ]
  }
 ],
 "metadata": {
  "kernelspec": {
   "display_name": "Python 3",
   "language": "python",
   "name": "python3"
  },
  "language_info": {
   "codemirror_mode": {
    "name": "ipython",
    "version": 3
   },
   "file_extension": ".py",
   "mimetype": "text/x-python",
   "name": "python",
   "nbconvert_exporter": "python",
   "pygments_lexer": "ipython3",
   "version": "3.8.4"
  }
 },
 "nbformat": 4,
 "nbformat_minor": 2
}
