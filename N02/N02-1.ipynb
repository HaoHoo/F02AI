{
 "cells": [
  {
   "cell_type": "markdown",
   "metadata": {},
   "source": [
    "# 从零开始AI - 认知服务 - 计算机视觉\n",
    "\n",
    "> ··· 您可以访问 [https://github.com/HaoHoo/F02AI](https://github.com/HaoHoo/F02AI) 来获得 “从零开始AI” 系列全部的内容。··· <br>\n",
    ">`请以原样使用或转发，欢迎Issue，敬请PR；如果觉得有些意思，欢迎Fork，敬谢Star。` \n",
    "\n",
    "说起从零开始AI，使用Azure的认知服务算是一个再方便不过的方式了。认知服务使用标准REST \n",
    "API提供服务接口，这意味着开发者即使还没开始学习有关的人工智能代码，也可以在自己的应用中马上引入人工智能的能力。\n",
    "\n",
    "认知服务分为几大类，其中计算机视觉是非常重要的一个类别。实际上计算机对图片的识别速度和准确度已经超过了人类，所以我们看看计算机能用这个能力做些什么，也是一件非常有趣的事。\n",
    "\n",
    "按照现有提供的计算机视觉的分类，接下来我们可以尝试如下几种能力：\n",
    "* [图像分析](#AnalyzeImage)\n",
    "* [使用特定领域模型](#DomainSpecificModel)\n",
    "* [识别图中成人内容](#Adult)\n",
    "* [智能生成缩略图](#GetThumbnail)\n",
    "* [识别图中的印刷文字](#OCR)\n",
    "* [识别图中的手写文字](#RecognizeText)\n",
    "* [分析保存在本地的图片](#AnalyzeImageOnDisk)\n",
    "\n",
    "和其他认知服务一样，计算机视觉也是运行在Azure的服务。为了使用Computer Vision API，您需要一个订阅密钥 (subscription key)。别担心，您可以在[这里](https://docs.microsoft.com/azure/cognitive-services/Computer-vision/Vision-API-How-to-Topics/HowToSubscribe)获取免费的订阅密钥。或者在[这里](https://azure.microsoft.com/zh-cn/try/cognitive-services)获取试用的订阅密钥。\n",
    "\n",
    "\n",
    "\n",
    "获取订阅密钥后，请记录密钥及分配的Azure服务区域。对于测试认知服务，往往会分配美国中西区域 (WestCentralUS)。后面我们使用这些API时，必须提供这两种信息。"
   ]
  },
  {
   "cell_type": "markdown",
   "metadata": {},
   "source": [
    "## 使用Python调用Computer Vision API进行图像分析 <a name=\"AnalyzeImage\"> </a>\n",
    "\n",
    "在 [Analyze Image 方法](https://westcentralus.dev.cognitive.microsoft.com/docs/services/5adf991815e1060e6355ad44/operations/56f91f2e778daf14a499e1fa) API网站，您能够直接在页面查看图像分析所支持的方法。该 API 网站非常便利，除了查阅 API 方法之外，您还可以直接尝试提供图片测试该 API。如果调用成功，API 将返回以下信息:\n",
    "* 与图像内容相关的标签的详细列表。\n",
    "* 对图像内容的一个完整句子的描述。\n",
    "* 图像中包含的任何脸部的坐标、性别和年龄。\n",
    "* 图像类型（剪贴画或线条图）。\n",
    "* 主色、强调色或图像是否为黑白。\n",
    "* 在[分类](https://docs.microsoft.com/azure/cognitive-services/computer-vision/category-taxonomy)中定义的类别。\n",
    "* 图像是否包含成人或性暗示内容？\n",
    "\n",
    "### 分析图像\n",
    "要开始尝试使用计算机视觉服务分析图像，需要根据提示，输入`subscription_key` 的值，也就是前面我们获得的API密钥."
   ]
  },
  {
   "cell_type": "code",
   "execution_count": null,
   "metadata": {},
   "outputs": [],
   "source": [
    "subscription_key = input(\"Please input your Service Key:\")\n",
    "assert subscription_key"
   ]
  },
  {
   "cell_type": "markdown",
   "metadata": {},
   "source": [
    "然后，请再次按照提示输入API密钥对应的服务区域(`westus`, `westcentralus`, 等等)。输入服务区域后，组合的对应 `vision_base_url` 显示的地址将作为服务API调用的终结点地址。如果使用的是免费的订阅，目前通常为 `westus`。"
   ]
  },
  {
   "cell_type": "code",
   "execution_count": null,
   "metadata": {},
   "outputs": [],
   "source": [
    "vision_base_url = input(\"Please input your Service Region:\")\n",
    "vision_base_url = \"https://\"+vision_base_url+\".api.cognitive.microsoft.com/vision/v2.0/\""
   ]
  },
  {
   "cell_type": "markdown",
   "metadata": {},
   "source": [
    "图像分析的URL调用链接形如以下的例子 (可以在[这里](https://westcentralus.dev.cognitive.microsoft.com/docs/services/5adf991815e1060e6355ad44/operations/56f91f2e778daf14a499e1fa)查看REST API文档):\n",
    "\n",
    "<code>https://[location].api.cognitive.microsoft.com/vision/v2.0/<b>analyze</b>[?visualFeatures][&details][&language]</code>\n",
    "\n",
    "因为我们首先尝试图像分析，所以URL后面调用的功能为 `analyze`。"
   ]
  },
  {
   "cell_type": "code",
   "execution_count": null,
   "metadata": {},
   "outputs": [],
   "source": [
    "vision_analyze_url = vision_base_url + \"analyze\""
   ]
  },
  {
   "cell_type": "markdown",
   "metadata": {},
   "source": [
    "要开始分析图像，我们需要提供一张图片的URL给 `image_url` 变量。"
   ]
  },
  {
   "cell_type": "code",
   "execution_count": null,
   "metadata": {},
   "outputs": [],
   "source": [
    "%matplotlib inline\n",
    "import requests\n",
    "from PIL import Image\n",
    "from io import BytesIO\n",
    "import matplotlib.pyplot as plt\n",
    "image_url = \"https://github.com/HaoHoo/F02AI/raw/master/N02/images/Vision/ljz.jpeg\"\n",
    "image = Image.open(BytesIO(requests.get(image_url).content))\n",
    "plt.figure(figsize=(10,10))\n",
    "plt.imshow(image)"
   ]
  },
  {
   "cell_type": "markdown",
   "metadata": {},
   "source": [
    "为了通过 REST 方式调用计算机视觉 `analyze` API，接下来的代码块需要使用 Python 的 `requests` 库。API 调用的结果将以 JSON 对象返回。按照规范，变量 `headers` 使用一个 dictionary 类型来包含必要的 API 密钥信息。而变量 `params` 同样使用 dictionary 类型来定义要调用的可视化功能，在这里我们选择三个功能  Categories,Description,Color 来尝试。所有支持的功能都可以访问 [REST API 文档](https://westcentralus.dev.cognitive.microsoft.com/docs/services/5adf991815e1060e6355ad44/operations/56f91f2e778daf14a499e1fa)查看。\n",
    "\n",
    "接着就可以通过 `requests` 来调用 REST 并返回 JSON 形式的结果了。"
   ]
  },
  {
   "cell_type": "code",
   "execution_count": null,
   "metadata": {},
   "outputs": [],
   "source": [
    "headers  = {'Ocp-Apim-Subscription-Key': subscription_key }\n",
    "params   = {'visualFeatures': 'Categories,Description,Color'}\n",
    "data     = {'url': image_url}\n",
    "response = requests.post(vision_analyze_url, headers=headers, params=params, json=data)\n",
    "response.raise_for_status()\n",
    "analysis = response.json()"
   ]
  },
  {
   "cell_type": "markdown",
   "metadata": {},
   "source": [
    "`analysis` 对象包含了很多个变量域来描述分析的图像。图像最相关的标题可以从 `descriptions` 属性中获得。我们可以把描述从 JSON 中挑选出来。"
   ]
  },
  {
   "cell_type": "code",
   "execution_count": null,
   "metadata": {},
   "outputs": [],
   "source": [
    "image_caption = analysis[\"description\"][\"captions\"][0][\"text\"].capitalize()\n",
    "print(image_caption)"
   ]
  },
  {
   "cell_type": "markdown",
   "metadata": {},
   "source": [
    "下面的代码行显示您提供的图像，并用推断出的标题标记在图像上。"
   ]
  },
  {
   "cell_type": "code",
   "execution_count": null,
   "metadata": {},
   "outputs": [],
   "source": [
    "image = Image.open(BytesIO(requests.get(image_url).content))\n",
    "plt.imshow(image)\n",
    "plt.axis(\"off\")\n",
    "_ = plt.title(image_caption, size=\"x-large\", y=0, color='white')"
   ]
  },
  {
   "cell_type": "markdown",
   "metadata": {},
   "source": [
    "## 使用特定领域模型 <a name=\"DomainSpecificModel\"> </a>\n",
    "\n",
    "[特定领域模型](https://westcentralus.dev.cognitive.microsoft.com/docs/services/5adf991815e1060e6355ad44/operations/56f91f2e778daf14a499e1fd) 是一个训练用来识别图像中特定对象集的模型。当前可用的两个特定于域的模型是_名人_(_celebrities_)和_地标_(_landmarks_). \n",
    "\n",
    "要查看受支持的特定于域的模型的列表，可以针对该服务发出以下请求。"
   ]
  },
  {
   "cell_type": "code",
   "execution_count": null,
   "metadata": {},
   "outputs": [],
   "source": [
    "model_url = vision_base_url + \"models\"\n",
    "headers   = {'Ocp-Apim-Subscription-Key': subscription_key}\n",
    "models    = requests.get(model_url, headers=headers).json()\n",
    "[model[\"name\"] for model in models[\"models\"]]"
   ]
  },
  {
   "cell_type": "markdown",
   "metadata": {},
   "source": [
    "### 地标识别\n",
    "要开始使用特定领域的地标模型，请将 `image_url` 设置为指向要分析的图像。"
   ]
  },
  {
   "cell_type": "code",
   "execution_count": null,
   "metadata": {},
   "outputs": [],
   "source": [
    "image_url = \"https://github.com/HaoHoo/F02AI/raw/master/N02/images/Vision/tam.jpg\"\n",
    "image = Image.open(BytesIO(requests.get(image_url).content))\n",
    "plt.figure(figsize=(10,10))\n",
    "plt.imshow(image)"
   ]
  },
  {
   "cell_type": "markdown",
   "metadata": {},
   "source": [
    "如下构造图像分析服务的终结点调用结构："
   ]
  },
  {
   "cell_type": "code",
   "execution_count": null,
   "metadata": {},
   "outputs": [],
   "source": [
    "landmark_analyze_url = vision_base_url + \"models/landmarks/analyze\"\n",
    "print(landmark_analyze_url)"
   ]
  },
  {
   "cell_type": "markdown",
   "metadata": {},
   "source": [
    "现在 `image_url` 所指定的图片能够被分析为地标。识别出的地标描述将保存在 `landmark_name` 中："
   ]
  },
  {
   "cell_type": "code",
   "execution_count": null,
   "metadata": {},
   "outputs": [],
   "source": [
    "headers  = {'Ocp-Apim-Subscription-Key': subscription_key}\n",
    "params   = {'model': 'landmarks'}\n",
    "data     = {'url': image_url}\n",
    "response = requests.post(landmark_analyze_url, headers=headers, params=params, json=data)\n",
    "response.raise_for_status()\n",
    "\n",
    "analysis      = response.json()\n",
    "assert analysis[\"result\"][\"landmarks\"] is not []\n",
    "\n",
    "landmark_name = analysis[\"result\"][\"landmarks\"][0][\"name\"].capitalize()"
   ]
  },
  {
   "cell_type": "markdown",
   "metadata": {},
   "source": [
    "让我们把地标信息写进图片。"
   ]
  },
  {
   "cell_type": "code",
   "execution_count": null,
   "metadata": {},
   "outputs": [],
   "source": [
    "image = Image.open(BytesIO(requests.get(image_url).content))\n",
    "plt.imshow(image)\n",
    "plt.axis(\"off\")\n",
    "_ = plt.title(landmark_name, size=\"x-large\", y=-0.02)"
   ]
  },
  {
   "cell_type": "markdown",
   "metadata": {},
   "source": [
    "### 名人识别\n",
    "同样，可以调用特定于领域的名人识别模型，如下所示。第一组 `image_url` 指向名人的图片。"
   ]
  },
  {
   "cell_type": "code",
   "execution_count": null,
   "metadata": {},
   "outputs": [],
   "source": [
    "image_url = \"https://raw.githubusercontent.com/HaoHoo/F02AI/master/N02/images/Vision/BillG.jpg\"\n",
    "image = Image.open(BytesIO(requests.get(image_url).content))\n",
    "plt.figure(figsize=(10,10))\n",
    "plt.imshow(image)"
   ]
  },
  {
   "cell_type": "markdown",
   "metadata": {},
   "source": [
    "识别名人的服务终结点的调用构造如下："
   ]
  },
  {
   "cell_type": "code",
   "execution_count": null,
   "metadata": {},
   "outputs": [],
   "source": [
    "celebrity_analyze_url = vision_base_url + \"models/celebrities/analyze\"\n",
    "print(celebrity_analyze_url)"
   ]
  },
  {
   "cell_type": "markdown",
   "metadata": {},
   "source": [
    "然后， `image_url` 指定的图片中的名人将被识别出来。"
   ]
  },
  {
   "cell_type": "code",
   "execution_count": null,
   "metadata": {},
   "outputs": [],
   "source": [
    "headers  = {'Ocp-Apim-Subscription-Key': subscription_key}\n",
    "params   = {'model': 'celebrities'}\n",
    "data     = {'url': image_url}\n",
    "response = requests.post(celebrity_analyze_url, headers=headers, params=params, json=data)\n",
    "response.raise_for_status()\n",
    "\n",
    "analysis = response.json()\n",
    "print(analysis)"
   ]
  },
  {
   "cell_type": "markdown",
   "metadata": {},
   "source": [
    "分析结果如上返回名人的信息，例如面部位置、名字、可行度等等。如果图片中识别出了名人，接下来的代码将从结果中获取名人相关的信息："
   ]
  },
  {
   "cell_type": "code",
   "execution_count": null,
   "metadata": {},
   "outputs": [],
   "source": [
    "assert analysis[\"result\"][\"celebrities\"] is not []\n",
    "celebrity_info = analysis[\"result\"][\"celebrities\"][0]\n",
    "celebrity_name = celebrity_info[\"name\"]\n",
    "celebrity_face = celebrity_info[\"faceRectangle\"]"
   ]
  },
  {
   "cell_type": "markdown",
   "metadata": {},
   "source": [
    "接下来，我们可以使用返回的信息，在图片上标记名人的脸并加上注释："
   ]
  },
  {
   "cell_type": "code",
   "execution_count": null,
   "metadata": {},
   "outputs": [],
   "source": [
    "from matplotlib.patches import Rectangle\n",
    "plt.figure(figsize=(5,5))\n",
    "\n",
    "image  = Image.open(BytesIO(requests.get(image_url).content))\n",
    "ax     = plt.imshow(image, alpha=0.6)\n",
    "origin = (celebrity_face[\"left\"], celebrity_face[\"top\"])\n",
    "p      = Rectangle(origin, celebrity_face[\"width\"], celebrity_face[\"height\"], \n",
    "                   fill=False, linewidth=2, color='b')\n",
    "ax.axes.add_patch(p)\n",
    "plt.text(origin[0], origin[1], celebrity_name, fontsize=20, weight=\"bold\", va=\"bottom\")\n",
    "_ = plt.axis(\"off\")"
   ]
  },
  {
   "cell_type": "markdown",
   "metadata": {},
   "source": [
    "## 检查图片成人内容 🔞 <a name=\"Adult\"> </a>\n",
    "\n",
    "现在通过网络获得图片无比便捷。为了不让未成年人看到成人内容的图片，人工智能可以帮助我们分析图片，对图片中的成人内容进行识别和标记。\n",
    "成人内容检测并不是独立的认知服务 API 方法，不过这个话题比较有趣，所以我们也可以尝试一下。\n",
    "\n",
    "我们先切换回 `analyze` 方法。"
   ]
  },
  {
   "cell_type": "code",
   "execution_count": null,
   "metadata": {},
   "outputs": [],
   "source": [
    "image_url = \"https://github.com/HaoHoo/F02AI/raw/master/N02/images/Vision/cjk.png\"\n",
    "image = Image.open(BytesIO(requests.get(image_url).content))\n",
    "plt.figure(figsize=(10,10))\n",
    "plt.imshow(image)"
   ]
  },
  {
   "cell_type": "markdown",
   "metadata": {},
   "source": [
    "图像分析方法中指定功能就能返回是否有成人内容的结果。我们把 `adult` 功能加到参数中。"
   ]
  },
  {
   "cell_type": "code",
   "execution_count": null,
   "metadata": {},
   "outputs": [],
   "source": [
    "headers  = {'Ocp-Apim-Subscription-Key': subscription_key }\n",
    "params   = {'visualFeatures': 'Categories,Description,Adult,Faces'}\n",
    "data     = {'url': image_url}\n",
    "response = requests.post(vision_analyze_url, headers=headers, params=params, json=data)\n",
    "response.raise_for_status()\n",
    "analysis = response.json()"
   ]
  },
  {
   "cell_type": "markdown",
   "metadata": {},
   "source": [
    "接下来我们输出图像分析的结果看看。"
   ]
  },
  {
   "cell_type": "code",
   "execution_count": null,
   "metadata": {},
   "outputs": [],
   "source": [
    "print(analysis)"
   ]
  },
  {
   "cell_type": "markdown",
   "metadata": {},
   "source": [
    "然后我们再尝试把信息挑选出来。"
   ]
  },
  {
   "cell_type": "code",
   "execution_count": null,
   "metadata": {
    "scrolled": true
   },
   "outputs": [],
   "source": [
    "image_caption = \"Adult Content: \"+str(analysis[\"adult\"][\"isAdultContent\"])+\"; Adult Rate: \"+str(analysis[\"adult\"][\"adultScore\"])\n",
    "print(image_caption)\n",
    "image_caption = \" Racy Content: \"+str(analysis[\"adult\"][\"isRacyContent\"])+\";   Racy Rate: \"+str(analysis[\"adult\"][\"racyScore\"])\n",
    "print(image_caption)\n",
    "image_caption = analysis[\"description\"][\"captions\"][0][\"text\"].capitalize()\n",
    "print(image_caption)"
   ]
  },
  {
   "cell_type": "markdown",
   "metadata": {},
   "source": [
    "咦？为啥只是“猥亵”内容不是“成人”内容？\n",
    "\n",
    "** 好好学习，成人内容能在这里显示么？！**\n",
    "\n",
    "不过识别的照片我们倒可以显示下："
   ]
  },
  {
   "cell_type": "code",
   "execution_count": null,
   "metadata": {},
   "outputs": [],
   "source": [
    "adult_name = analysis[\"categories\"][0][\"detail\"][\"celebrities\"][0][\"name\"]\n",
    "adult_face = analysis[\"categories\"][0][\"detail\"][\"celebrities\"][0][\"faceRectangle\"]\n",
    "plt.figure(figsize=(5,5))\n",
    "\n",
    "image  = Image.open(BytesIO(requests.get(image_url).content))\n",
    "ax     = plt.imshow(image, alpha=0.8)\n",
    "origin = (adult_face[\"left\"], adult_face[\"top\"])\n",
    "p      = Rectangle(origin, adult_face[\"width\"], adult_face[\"height\"], \n",
    "                   fill=False, linewidth=2, color='r')\n",
    "ax.axes.add_patch(p)\n",
    "plt.text(origin[0], origin[1], adult_name, fontsize=12, color='r', va=\"bottom\")\n",
    "\n",
    "plt.axis(\"off\")\n",
    "_ = plt.title(image_caption, size=\"x-large\", y=-0.02)"
   ]
  },
  {
   "cell_type": "markdown",
   "metadata": {},
   "source": [
    "## 使用 Computer Vision API 获取缩略图<a name=\"GetThumbnail\"> </a>\n",
    "\n",
    "使用 [获取缩略图](https://westcentralus.dev.cognitive.microsoft.com/docs/services/5adf991815e1060e6355ad44/operations/56f91f2e778daf14a499e1fb) 可以对图片按照兴趣区域 (ROI, region of interest)，使用您期望的长宽进行裁剪。为缩略图设置的纵横比可以不同于输入图像的纵横比。\n",
    "\n",
    "为一张图片生成缩略图，首先提供图片的位置 `image_url` 。同样，我们可以点击输出的链接查看原图。"
   ]
  },
  {
   "cell_type": "code",
   "execution_count": null,
   "metadata": {},
   "outputs": [],
   "source": [
    "#image_url = \"https://upload.wikimedia.org/wikipedia/commons/9/94/Bloodhound_Puppy.jpg\"\n",
    "image_url = \"https://img.4hw.com.cn/20190312/215117446b52f2ac2ecd390a56f37784.jpg\"\n",
    "image = Image.open(BytesIO(requests.get(image_url).content))\n",
    "plt.figure(figsize=(10,10))\n",
    "plt.imshow(image)"
   ]
  },
  {
   "cell_type": "markdown",
   "metadata": {},
   "source": [
    "原图生成缩略图的服务终结点可按如下构造："
   ]
  },
  {
   "cell_type": "code",
   "execution_count": null,
   "metadata": {},
   "outputs": [],
   "source": [
    "thumbnail_url = vision_base_url + \"generateThumbnail\"\n",
    "print(thumbnail_url)"
   ]
  },
  {
   "cell_type": "markdown",
   "metadata": {},
   "source": [
    "接下来我们尝试生成一个64x64像素的缩略图。"
   ]
  },
  {
   "cell_type": "code",
   "execution_count": null,
   "metadata": {},
   "outputs": [],
   "source": [
    "headers  = {'Ocp-Apim-Subscription-Key': subscription_key}\n",
    "params   = {'width': '64', 'height': '64','smartCropping': 'true'}\n",
    "data     = {'url': image_url}\n",
    "response = requests.post(thumbnail_url, headers=headers, params=params, json=data)\n",
    "response.raise_for_status()"
   ]
  },
  {
   "cell_type": "markdown",
   "metadata": {},
   "source": [
    "您可以使用 Python Image 库来验证缩略图的大小。"
   ]
  },
  {
   "cell_type": "code",
   "execution_count": null,
   "metadata": {},
   "outputs": [],
   "source": [
    "thumbnail = Image.open(BytesIO(response.content))\n",
    "print(\"Thumbnail is {0}x{1}\".format(*thumbnail.size))\n",
    "thumbnail"
   ]
  },
  {
   "cell_type": "markdown",
   "metadata": {},
   "source": [
    "##  使用 Computer Vision API 进行 OCR<a name=\"OCR\"> </a>\n",
    "\n",
    "[OCR 方法](https://westcentralus.dev.cognitive.microsoft.com/docs/services/5adf991815e1060e6355ad44/operations/56f91f2e778daf14a499e1fc) (Optical Character Recognition) 同步检测图像中的打印文本，并将识别字符提取到机器可用的字符流中。\n",
    "\n",
    "要尝试 OCR API，请将 `image_url` 设置为指向要识别文本的图片。可以点击输出的链接查看。"
   ]
  },
  {
   "cell_type": "code",
   "execution_count": null,
   "metadata": {},
   "outputs": [],
   "source": [
    "image_url = \"https://upload.wikimedia.org/wikipedia/commons/thumb/a/af/Atomist_quote_from_Democritus.png/338px-Atomist_quote_from_Democritus.png\"\n",
    "image = Image.open(BytesIO(requests.get(image_url).content))\n",
    "plt.figure(figsize=(10,10))\n",
    "plt.imshow(image)"
   ]
  },
  {
   "cell_type": "markdown",
   "metadata": {},
   "source": [
    "OCR所对应的服务服务终结点可构造如下："
   ]
  },
  {
   "cell_type": "code",
   "execution_count": null,
   "metadata": {},
   "outputs": [],
   "source": [
    "ocr_url = vision_base_url + \"ocr\"\n",
    "print(ocr_url)"
   ]
  },
  {
   "cell_type": "markdown",
   "metadata": {},
   "source": [
    "接下来，您可以调用 OCR 服务来获取与边界框一起识别的文本。在显示的参数中， `\"language\": \"unk\"` 自动检测文本语言， `\"detectOrientation\": \"true\"` 自动对齐图片。更多的参数可以查看 [REST API 文档](https://westcentralus.dev.cognitive.microsoft.com/docs/services/5adf991815e1060e6355ad44/operations/56f91f2e778daf14a499e1fc)查看。"
   ]
  },
  {
   "cell_type": "code",
   "execution_count": null,
   "metadata": {},
   "outputs": [],
   "source": [
    "headers  = {'Ocp-Apim-Subscription-Key': subscription_key}\n",
    "params   = {'language': 'unk', 'detectOrientation ': 'true'}\n",
    "data     = {'url': image_url}\n",
    "response = requests.post(ocr_url, headers=headers, params=params, json=data)\n",
    "response.raise_for_status()\n",
    "\n",
    "analysis = response.json()"
   ]
  },
  {
   "cell_type": "markdown",
   "metadata": {},
   "source": [
    "可以使用以下代码行从分析结果中提取单词边界框和文本："
   ]
  },
  {
   "cell_type": "code",
   "execution_count": null,
   "metadata": {},
   "outputs": [],
   "source": [
    "line_infos = [region[\"lines\"] for region in analysis[\"regions\"]]\n",
    "word_infos = []\n",
    "for line in line_infos:\n",
    "    for word_metadata in line:\n",
    "        for word_info in word_metadata[\"words\"]:\n",
    "            word_infos.append(word_info)\n",
    "word_infos"
   ]
  },
  {
   "cell_type": "markdown",
   "metadata": {},
   "source": [
    "从结果能看到，对于被识别出的文字，OCR 服务给出了图片中文字的范围和识别出的文字内容。让我们使用 `matplotlib` 库来将这些内容显示在图片中。"
   ]
  },
  {
   "cell_type": "code",
   "execution_count": null,
   "metadata": {},
   "outputs": [],
   "source": [
    "plt.figure(figsize=(5,5))\n",
    "\n",
    "image  = Image.open(BytesIO(requests.get(image_url).content))\n",
    "ax     = plt.imshow(image, alpha=0.5)\n",
    "for word in word_infos:\n",
    "    bbox = [int(num) for num in word[\"boundingBox\"].split(\",\")]\n",
    "    text = word[\"text\"]\n",
    "    origin = (bbox[0], bbox[1])\n",
    "    patch  = Rectangle(origin, bbox[2], bbox[3], fill=False, linewidth=2, color='y')\n",
    "    ax.axes.add_patch(patch)\n",
    "    plt.text(origin[0], origin[1], text, fontsize=20, weight=\"bold\", va=\"top\")\n",
    "_ = plt.axis(\"off\")"
   ]
  },
  {
   "cell_type": "markdown",
   "metadata": {},
   "source": [
    "## 使用 Computer Vision API 识别手写文字 <a name=\"RecognizeText\"> </a>\n",
    "\n",
    "使用 [Recognize Text 方法](https://westcentralus.dev.cognitive.microsoft.com/docs/services/5adf991815e1060e6355ad44/operations/587f2c6a154055056008f200) 异步检测图像中的手写或打印文本，并将识别的字符提取到机器可用的字符流中。\n",
    "\n",
    "接下来，我们拿美国独立宣言的图片来尝试做手写文本的识别。请注意，以下显示的图片是无法进行识别的，因为分辨率太低。而且太多内容识别时间将会很长，所以我们截取其中一句非常有名的话来进行识别实验。\n",
    "\n",
    "![image](data:image/jpg;base64,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)\n",
    "\n",
    "通过 `image_url` 提供将被识别的图片。"
   ]
  },
  {
   "cell_type": "code",
   "execution_count": null,
   "metadata": {},
   "outputs": [],
   "source": [
    "image_url = \"https://github.com/HaoHoo/F02AI/raw/master/N02/images/Vision/dlxy.jpg\"\n",
    "image = Image.open(BytesIO(requests.get(image_url).content))\n",
    "plt.figure(figsize=(10,10))\n",
    "plt.imshow(image)"
   ]
  },
  {
   "cell_type": "markdown",
   "metadata": {},
   "source": [
    "服务终结点可以按照如下代码进行构造："
   ]
  },
  {
   "cell_type": "code",
   "execution_count": null,
   "metadata": {},
   "outputs": [],
   "source": [
    "text_recognition_url = vision_base_url + \"recognizeText\"\n",
    "print(text_recognition_url)"
   ]
  },
  {
   "cell_type": "markdown",
   "metadata": {},
   "source": [
    "手写文本识别服务可用于识别图像中的文本。在 `params` dictionary 参数中，除了我们尝试的手写文字，您能够设置类型 `mode` 为 `Printed` 来识别打印的文字。"
   ]
  },
  {
   "cell_type": "code",
   "execution_count": null,
   "metadata": {},
   "outputs": [],
   "source": [
    "headers  = {'Ocp-Apim-Subscription-Key': subscription_key}\n",
    "params   = {'mode' : 'Handwritten'}\n",
    "data     = {'url': image_url}\n",
    "response = requests.post(text_recognition_url, headers=headers, params=params, json=data)\n",
    "response.raise_for_status()"
   ]
  },
  {
   "cell_type": "markdown",
   "metadata": {},
   "source": [
    "需要注意的是，文本识别服务不会自行、立刻返回已识别的文本。相反，它会在响应头中立即返回一个 `operation_url` 的 URL，必须对其进行轮询才能获得操作结果。"
   ]
  },
  {
   "cell_type": "code",
   "execution_count": null,
   "metadata": {},
   "outputs": [],
   "source": [
    "operation_url = response.headers[\"Operation-Location\"]"
   ]
  },
  {
   "cell_type": "markdown",
   "metadata": {},
   "source": [
    "获取 `operation_url` 后，可以查询分析文本。以下代码行实现一个轮询循环，以等待操作完成。注意，轮询是通过 HTTP的 `get` 方法而不是 `post` 来完成的。"
   ]
  },
  {
   "cell_type": "code",
   "execution_count": null,
   "metadata": {},
   "outputs": [],
   "source": [
    "import time\n",
    "analysis = {}\n",
    "while not \"recognitionResult\" in analysis:\n",
    "    response_final = requests.get(response.headers[\"Operation-Location\"], headers=headers)\n",
    "    analysis       = response_final.json()\n",
    "    time.sleep(1)\n",
    "print(analysis)"
   ]
  },
  {
   "cell_type": "markdown",
   "metadata": {},
   "source": [
    "接下来，可以提取识别的文本以及边界框，如下面的代码行所示。需要注意的一点是，手写文本识别API将边界框返回为**多边形**，而不是**矩形**。每个多边形由其顶点定义，使用以下约定：\n",
    "\n",
    "<i>p</i> = [<i>x</i><sub>1</sub>, <i>y</i><sub>1</sub>, <i>x</i><sub>2</sub>, <i>y</i><sub>2</sub>, ..., <i>x</i><sub>N</sub>, <i>y</i><sub>N</sub>]"
   ]
  },
  {
   "cell_type": "code",
   "execution_count": null,
   "metadata": {},
   "outputs": [],
   "source": [
    "polygons = [(line[\"boundingBox\"], line[\"text\"]) for line in analysis[\"recognitionResult\"][\"lines\"]]"
   ]
  },
  {
   "cell_type": "markdown",
   "metadata": {},
   "source": [
    "最后，利用提取的多边形信息将识别出的文本覆盖在原始图像的顶部。请注意，`matplotlib` 库要求将顶点指定为表单的元组列表：\n",
    "\n",
    "<i>p</i> = [(<i>x</i><sub>1</sub>, <i>y</i><sub>1</sub>), (<i>x</i><sub>2</sub>, <i>y</i><sub>2</sub>), ..., (<i>x</i><sub>N</sub>, <i>y</i><sub>N</sub>)]\n",
    "\n",
    "处理代码将返回的多边形数据转换为 `matplotlib` 所需的格式，并在原始图片上标记识别的文字范围和识别结果。"
   ]
  },
  {
   "cell_type": "code",
   "execution_count": null,
   "metadata": {},
   "outputs": [],
   "source": [
    "from matplotlib.patches import Polygon\n",
    "\n",
    "plt.figure(figsize=(15,15))\n",
    "\n",
    "image  = Image.open(BytesIO(requests.get(image_url).content))\n",
    "ax     = plt.imshow(image)\n",
    "for polygon in polygons:\n",
    "    vertices = [(polygon[0][i], polygon[0][i+1]) for i in range(0,len(polygon[0]),2)]\n",
    "    text     = polygon[1]\n",
    "    patch    = Polygon(vertices, closed=True,fill=False, linewidth=2, color='g')\n",
    "    ax.axes.add_patch(patch)\n",
    "    plt.text(vertices[0][0], vertices[0][1], text, fontsize=20, va=\"bottom\", color='b')\n",
    "_ = plt.axis(\"off\")"
   ]
  },
  {
   "cell_type": "markdown",
   "metadata": {},
   "source": [
    "## 分析保存在本地的图片 <a name=\"AnalyzeImageOnDisk\"> </a>\n",
    "\n",
    "Computer Vision REST API 不仅接受公共可访问图像的 URL，还可作为 HTTP 主体的一部分来提供要分析的图像。有关此功能的模式详细信息，请参阅[文档](https://westcentralus.dev.cognitive.microsoft.com/docs/services/5adf991815e1060e6355ad44/operations/56f91f2e778daf14a499e1fa). \n",
    "\n",
    "本节中的代码使用此功能分析磁盘上的示例图像。传递图像 URL 与传递图像数据的主要区别在于，请求的头必须包含表单的条目：\n",
    "```py\n",
    "{\"Content-Type\": \"application/octet-stream\"}\n",
    "```\n",
    "二进制图像数据必须通过 `data` 参数传递给 `requests.post`，而不是 `json` 参数。\n",
    "\n",
    "首先，以下代码会从微软 [Computer Vision API](https://azure.microsoft.com/services/cognitive-services/computer-vision/) 示范网页下载一张图片，下载到本地（即本 notebook 运行的环境）的图片将会使用变量 `image_path` 来提供访问路径。"
   ]
  },
  {
   "cell_type": "code",
   "execution_count": null,
   "metadata": {},
   "outputs": [],
   "source": [
    "%%bash\n",
    "mkdir -p images\n",
    "curl -Ls https://aka.ms/csnb-house-yard -o images/house_yard.jpg"
   ]
  },
  {
   "cell_type": "markdown",
   "metadata": {},
   "source": [
    "这些代码使用 `bash` 来执行获取 https://aka.ms/csnb-house-yard 这个短链接所代表的图片链接，然后保存在创建的 images 目录中。当然，您也可以将其换成自己的图片的链接地址。"
   ]
  },
  {
   "cell_type": "code",
   "execution_count": null,
   "metadata": {},
   "outputs": [],
   "source": [
    "image_path = \"images/house_yard.jpg\""
   ]
  },
  {
   "cell_type": "markdown",
   "metadata": {},
   "source": [
    "然后，我们把这张图片读取到一个字节队列（byte array）中，并发送到计算机视觉服务进行分析，并输出分析的结果。"
   ]
  },
  {
   "cell_type": "code",
   "execution_count": null,
   "metadata": {},
   "outputs": [],
   "source": [
    "image_data = open(image_path, \"rb\").read()\n",
    "headers    = {'Ocp-Apim-Subscription-Key': subscription_key, \n",
    "              \"Content-Type\": \"application/octet-stream\" }\n",
    "params     = {'visualFeatures': 'Categories,Description,Color'}\n",
    "response   = requests.post(vision_analyze_url, \n",
    "                           headers=headers, \n",
    "                           params=params, \n",
    "                           data=image_data)\n",
    "\n",
    "response.raise_for_status()\n",
    "\n",
    "analysis      = response.json()\n",
    "image_caption = analysis[\"description\"][\"captions\"][0][\"text\"].capitalize()\n",
    "image_caption"
   ]
  },
  {
   "cell_type": "markdown",
   "metadata": {},
   "source": [
    "和前文一样，利用代码，标题可以很容易地覆盖在图像上。请注意，由于图像已经在本地可用，因此该过程比之前略短。"
   ]
  },
  {
   "cell_type": "code",
   "execution_count": null,
   "metadata": {},
   "outputs": [],
   "source": [
    "image = Image.open(image_path)\n",
    "plt.imshow(image)\n",
    "plt.axis(\"off\")\n",
    "_ = plt.title(image_caption, size=\"x-large\", y=-0.1)"
   ]
  }
 ],
 "metadata": {
  "kernelspec": {
   "display_name": "Python 3",
   "language": "python",
   "name": "python3"
  },
  "language_info": {
   "codemirror_mode": {
    "name": "ipython",
    "version": 3
   },
   "file_extension": ".py",
   "mimetype": "text/x-python",
   "name": "python",
   "nbconvert_exporter": "python",
   "pygments_lexer": "ipython3",
   "version": "3.8.4"
  },
  "ms_docs_meta": {
   "author": "JuliaNik",
   "description": "Get information and code samples to help you quickly get started using Python and the Computer Vision API in Microsoft Cognitive Services.",
   "manager": "ytkuo",
   "ms.author": "juliakuz",
   "ms.date": "02/02/2018",
   "ms.service": "cognitive-services",
   "ms.technology": "computer-vision",
   "ms.topic": "article",
   "services": "cognitive-services",
   "title": "Computer Vision API Python quick start | Microsoft Docs",
   "titleSuffix": "Computer Vision API Python quick start | Microsoft Cognitive Services"
  }
 },
 "nbformat": 4,
 "nbformat_minor": 2
}
